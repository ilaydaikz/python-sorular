{
  "cells": [
    {
      "cell_type": "markdown",
      "metadata": {
        "id": "SUUeEtypVoj9"
      },
      "source": [
        "### Soru 1 \n",
        "[0,1,2,3,4,5,6,7,9,10,12]\n",
        "Verilen listenin \n",
        "1. 3.indexi ile 6. indexi arasındaki değerleri yazdırınız.\n",
        "2. Listeyi tersten yazdırınız. \n",
        "3. Listeye 15,16,17 değerlerini ekleyiniz.\n",
        "4. Listeye 5.indexten başlayarak 50 ve 51 değerlerini ekleyiniz."
      ]
    },
    {
      "cell_type": "code",
      "execution_count": 1,
      "metadata": {},
      "outputs": [],
      "source": [
        "# Cevap"
      ]
    },
    {
      "cell_type": "markdown",
      "metadata": {
        "id": "0KB3Vqc41VrO"
      },
      "source": [
        "### Soru 2\n",
        "Kendisine parametre olarak verilen sayıların toplamını yazan bir fonksiyon yazınız. (Verilen parametrelerin sayısının bilinmediği bir fonksiyon.)\n",
        "* Örneğin fonksiyonumuzun adı sumAll() olsun. \n",
        "    - sumAll(1,5,6,7,6,2) şeklinde bir çağırma işlemi sonrası dönen değerin 1 + 5 + 6 + 7 + 6 + 2 = 27 olması beklenmektedir.\n",
        "    - sumAll(10, 20) şeklinde bir çağırma işlemi sonrası dönen değerin 10 + 20 = 30 olması beklenmektedir.\n"
      ]
    },
    {
      "cell_type": "code",
      "execution_count": 2,
      "metadata": {},
      "outputs": [],
      "source": [
        "# Cevap"
      ]
    },
    {
      "cell_type": "markdown",
      "metadata": {
        "id": "85fC8j1Q1jFV"
      },
      "source": [
        "### Soru 3\n",
        "Verilen sayıların EBOB'unu hesaplayan bir fonksiyon yazınız. \n",
        "- 2'den fazla sayı girilebilir."
      ]
    },
    {
      "cell_type": "code",
      "execution_count": null,
      "metadata": {},
      "outputs": [],
      "source": [
        "# Cevap"
      ]
    },
    {
      "cell_type": "markdown",
      "metadata": {
        "id": "swgcKJGd2rOO"
      },
      "source": [
        "### Soru 4\n",
        "Kendisine parametre olarak verilen bir listenin sadece tek numaralı indexlerindeki değerleri toplayan fonksiyonu yazınız.\n",
        "* Örneğin fonksiyonumuzun adı sumOddIndex olsun.\n",
        "  * sumOddIndex([5,10,15,30,1,2,3]) şeklinde bir çağırma işlemi sonrasında dönen değerin 10 + 30 + 2 = 42 olması beklenmektedir.\n"
      ]
    },
    {
      "cell_type": "code",
      "execution_count": null,
      "metadata": {},
      "outputs": [],
      "source": []
    },
    {
      "cell_type": "markdown",
      "metadata": {
        "id": "Yx32MRKPVSXj"
      },
      "source": [
        "### Soru 5\n",
        "Verilen string ifadenin içinde **SistersLab**'i oluşturmak için gerekli olan karakterlerin verilen ifadede sırayla bulunması durumunda ekrana 'True', diğer durumda 'False' yazdırınız.\n",
        "* Büyük küçük harf duyarlılığı olmasına gerek yok."
      ]
    },
    {
      "cell_type": "code",
      "execution_count": null,
      "metadata": {
        "colab": {
          "base_uri": "https://localhost:8080/"
        },
        "id": "JGz6gy7eWac3",
        "outputId": "af91b7e4-552b-4dcc-d46e-610eb89adcf8"
      },
      "outputs": [
        {
          "name": "stdout",
          "output_type": "stream",
          "text": [
            "[1, 2, 3, 50, 50, 51, 51, 50, 51]\n"
          ]
        }
      ],
      "source": [
        "# Cevap"
      ]
    },
    {
      "cell_type": "markdown",
      "metadata": {
        "id": "4f3-zkn5MAaV"
      },
      "source": [
        "### Soru 6\n",
        "- Kullanicidan alt_sayi, ust_sayi ve n_tane isimlerinde 3 tane parametre alin.\n",
        "Bunun sonucunda alt_sayi'dan buyuk ust_sayi'dan kucuk n_tane sayi alin. Bunlari sirasiyla bir liste icerisinde ekleyin."
      ]
    },
    {
      "cell_type": "code",
      "execution_count": null,
      "metadata": {
        "colab": {
          "base_uri": "https://localhost:8080/"
        },
        "id": "OYU2w1zPMBX9",
        "outputId": "f149c33a-f6b8-435c-9983-76efebe64ff4"
      },
      "outputs": [
        {
          "name": "stdout",
          "output_type": "stream",
          "text": [
            "11\n",
            "16\n",
            "14\n",
            "10\n",
            "13\n",
            "15\n",
            "19\n",
            "19\n",
            "13\n",
            "19\n",
            "\n",
            "[11, 16, 14, 10, 13, 15, 19, 19, 13, 19]\n"
          ]
        }
      ],
      "source": [
        "# Cevap"
      ]
    },
    {
      "cell_type": "markdown",
      "metadata": {
        "id": "AkFKAQ3TMU5K"
      },
      "source": [
        "### Soru 7\n",
        "- Kullanicidan alt_sayi, ust_sayi ve n_tane isimlerinde 3 tane parametre alin.\n",
        "Bunun sonucunda alt_sayi'dan buyuk ust_sayi'dan kucuk n_tane sayi alin. Bunlari sirasiyla bir liste icerisinde ekleyin.\n",
        "\n",
        "- ek olarak 2. bir cikti olarak eklenen sayilarin kumulatif toplamlarini da bir liste icerisine ekleyerek 2 tane liste donduren bir fonksiyon tasarlayin"
      ]
    },
    {
      "cell_type": "code",
      "execution_count": null,
      "metadata": {
        "colab": {
          "base_uri": "https://localhost:8080/"
        },
        "id": "kcthyc8jMFAR",
        "outputId": "9b327891-58f6-4674-9356-82ce8f1e0b96"
      },
      "outputs": [
        {
          "name": "stdout",
          "output_type": "stream",
          "text": [
            "Turetilen random sayilarin listesi:\n",
            "\t\t - [12, 15, 13, 19, 16, 10, 16, 20, 17, 17] \n",
            "Kumulatif toplam listesi:\n",
            "\t\t - [12, 27, 40, 59, 75, 85, 101, 121, 138, 155]\n"
          ]
        }
      ],
      "source": [
        "# Cevap"
      ]
    },
    {
      "cell_type": "markdown",
      "metadata": {
        "id": "967G1wyUMZe7"
      },
      "source": [
        "### Soru 8\n",
        "**Zorluk derecesi yuksek**\n",
        "- Kullanicidan q harfini girinceye kadar sayi girmesini isteyin.\n",
        "    - Girilen sayilari, kullanicinin girdigi sira ile ve\n",
        "    - kucukten buyuge siralanmis bir sekilde siralanmis olan sekli ile print ettirin.\n",
        "\n",
        "- (Cozume ulasirken .sort, sorted gibi fonksiyonlari kullanmayin, siralama fonksiyonunuzu kendiniz girin.)\n",
        "\n",
        "-------\n",
        "```\n",
        "Ornek:\n",
        "Kullanici girdisi: [5,3,8,7,4,99,21,1,21]\n",
        "Siralanmis liste:  [1,3,4,5,7,8,21,21,99]\n",
        "```"
      ]
    },
    {
      "cell_type": "code",
      "execution_count": null,
      "metadata": {
        "colab": {
          "base_uri": "https://localhost:8080/"
        },
        "id": "neih9Wh2MWSH",
        "outputId": "d366e3fc-e8e7-4a6c-cdb4-d4b660ef1792"
      },
      "outputs": [
        {
          "name": "stdout",
          "output_type": "stream",
          "text": [
            "Sayi giriniz!1\n",
            "Sayi giriniz!95\n",
            "Sayi giriniz!5\n",
            "Sayi giriniz!q\n",
            "[1, 95, 5]\n",
            "[1, 5, 95]\n"
          ]
        }
      ],
      "source": [
        "# Cevap"
      ]
    },
    {
      "cell_type": "markdown",
      "metadata": {
        "id": "tI--pGwlPxDR"
      },
      "source": [
        "### Soru 9\n",
        "\n",
        "Bir ogretmen ders notlarini girerken hata yapmistir. Her 4 ve 4'in kati olan siradaki not aslinda bir sonraki not ile karismisitr.\n",
        "- Yani her 4 ve 4'un kati olaan notlarin bir sonraki deger ile yer degistirmesi islemi hatayi duzeltecektir. Bu islemi ypainiz.\n",
        "\n",
        "notlar = [61, 32, 65, 32, 55, 42,6,100,98,56,87,34,55,32]"
      ]
    },
    {
      "cell_type": "code",
      "execution_count": null,
      "metadata": {
        "colab": {
          "base_uri": "https://localhost:8080/"
        },
        "id": "k2X8lcyNMivF",
        "outputId": "4d66e157-38f4-4216-9620-36a7c334d1cd"
      },
      "outputs": [
        {
          "name": "stdout",
          "output_type": "stream",
          "text": [
            "[61, 32, 65, 55, 32, 42, 6, 98, 100, 56, 87, 34]\n"
          ]
        }
      ],
      "source": [
        "# Cevap"
      ]
    },
    {
      "cell_type": "markdown",
      "metadata": {
        "id": "HHxZWlJXegos"
      },
      "source": [
        "### Soru 10\n",
        "- Esra ve Elif bir zar oyunu oynuyorlar ve ellerinde 2'ser tane zar var.\n",
        "    - Elif attigi zarlarin toplami 6'dan buyuk ve cift olursa basarili oluyor.\n",
        "    - Esra ise birbirinden farkli olarak 2-4-6 sayilarini 1 tane bile getirirse basarili oluyor.\n",
        "\n",
        "2'si sira ile cift zarlari atiyor. 1'i basarili olursa o puani kazaniyor.\n",
        "- 2'si de basarili olursa berabere olup puan almiyorlar.\n",
        "- 2'si de basarisiz olursa 2'si de 1'er puan kaybediyor.\n",
        "\n",
        "Oyunu 10 kez oynadiklari durumu simule edin. Ve her adimda gelen zarlari ve skor tablosunun bulundugu listeyi print ettirin.\n",
        "\n",
        "\n",
        "\n",
        "```\n",
        "#cevap formati\n",
        "ikisi de basarisiz\n",
        "Elif 1 3 --> 0 [0, -1]\n",
        "Esra 1 3 --> 0 [0, -1]\n",
        "\n",
        "esra yuksek\n",
        "Elif 3 1 --> 0 [0, -1, -1]\n",
        "Esra 5 4 --> 1 [0, -1, 0]\n",
        "\n",
        "esra yuksek\n",
        "Elif 1 3 --> 0 [0, -1, -1, -1]\n",
        "Esra 4 3 --> 1 [0, -1, 0, 1]\n",
        "\n",
        "esra yuksek\n",
        "Elif 6 3 --> 0 [0, -1, -1, -1, -1]\n",
        "Esra 5 4 --> 1 [0, -1, 0, 1, 2]\n",
        "\n",
        "esra yuksek\n",
        "Elif 6 5 --> 0 [0, -1, -1, -1, -1, -1]\n",
        "Esra 4 3 --> 1 [0, -1, 0, 1, 2, 3]\n",
        "\n",
        "ikisi de basarisiz\n",
        "Elif 2 4 --> 0 [0, -1, -1, -1, -1, -1, -2]\n",
        "Esra 3 3 --> 0 [0, -1, 0, 1, 2, 3, 2]\n",
        "\n",
        "elif yuksek\n",
        "Elif 4 6 --> 1 [0, -1, -1, -1, -1, -1, -2, -1]\n",
        "Esra 3 1 --> 0 [0, -1, 0, 1, 2, 3, 2, 2]\n",
        "\n",
        "elif yuksek\n",
        "Elif 6 4 --> 1 [0, -1, -1, -1, -1, -1, -2, -1, 0]\n",
        "Esra 6 6 --> 0 [0, -1, 0, 1, 2, 3, 2, 2, 2]\n",
        "\n",
        "esra yuksek\n",
        "Elif 2 2 --> 0 [0, -1, -1, -1, -1, -1, -2, -1, 0, 0]\n",
        "Esra 4 6 --> 1 [0, -1, 0, 1, 2, 3, 2, 2, 2, 3]\n",
        "\n",
        "ikisi de basarisiz\n",
        "Elif 2 2 --> 0 [0, -1, -1, -1, -1, -1, -2, -1, 0, 0, -1]\n",
        "Esra 5 5 --> 0 [0, -1, 0, 1, 2, 3, 2, 2, 2, 3, 2]\n",
        "\n",
        "10 oyun sonunda skor tablosu su sekilde:\n",
        "- Elif'in  adim adim skorlari: [0, -1, -1, -1, -1, -1, -2, -1, 0, 0, -1]\n",
        "- Esra'nin adim adim skorlari: [0, -1, 0, 1, 2, 3, 2, 2, 2, 3, 2]\n",
        "```"
      ]
    },
    {
      "cell_type": "code",
      "execution_count": null,
      "metadata": {},
      "outputs": [],
      "source": [
        "# Cevap"
      ]
    },
    {
      "cell_type": "markdown",
      "metadata": {
        "id": "mlu1PD1RgJWt"
      },
      "source": [
        "### Soru 11\n",
        "- 100, 1000, 10000 tane cift zar atisi sonucu kac tane 4-4, 4-2 ve 2-4 gorulebilecegini simule edin. Sonucu yuzde olarak gosterin."
      ]
    },
    {
      "cell_type": "code",
      "execution_count": null,
      "metadata": {},
      "outputs": [],
      "source": [
        "# Cevap"
      ]
    }
  ],
  "metadata": {
    "colab": {
      "collapsed_sections": [],
      "name": "Hafta_3_Sorular.ipynb",
      "provenance": []
    },
    "interpreter": {
      "hash": "32101a8118c94f36cfba773c286bb0b54d6de613c34f73590bc6c816a2930046"
    },
    "kernelspec": {
      "display_name": "Python 3.7.6 64-bit",
      "language": "python",
      "name": "python3"
    },
    "language_info": {
      "codemirror_mode": {
        "name": "ipython",
        "version": 3
      },
      "file_extension": ".py",
      "mimetype": "text/x-python",
      "name": "python",
      "nbconvert_exporter": "python",
      "pygments_lexer": "ipython3",
      "version": "3.7.6"
    }
  },
  "nbformat": 4,
  "nbformat_minor": 0
}
