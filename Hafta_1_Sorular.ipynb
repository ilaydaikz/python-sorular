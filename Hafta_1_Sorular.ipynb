{
  "cells": [
    {
      "cell_type": "markdown",
      "metadata": {
        "id": "vPOdEUH5wuPB"
      },
      "source": [
        "## SORULAR - HAFTA 1"
      ]
    },
    {
      "cell_type": "markdown",
      "metadata": {
        "id": "zevjk3Wbxqhn"
      },
      "source": [
        "### Soru 0\n",
        "\n",
        "- 3 tane string değisken oluşturun ve bunları camel case olarak isimlendirin."
      ]
    },
    {
      "cell_type": "code",
      "execution_count": 1,
      "metadata": {
        "id": "roU2m4lLxXt6"
      },
      "outputs": [],
      "source": [
        "# Cevap"
      ]
    },
    {
      "cell_type": "markdown",
      "metadata": {
        "id": "l4-nKq0fxt5-"
      },
      "source": [
        "### Soru 1\n",
        "- 3 tane Snake Case isme sahip integer veya float değer oluşturun.\n"
      ]
    },
    {
      "cell_type": "code",
      "execution_count": 2,
      "metadata": {
        "id": "hahEaeB7xXlF"
      },
      "outputs": [],
      "source": [
        "# Cevap"
      ]
    },
    {
      "cell_type": "markdown",
      "metadata": {
        "id": "4W2tkPE6yDLg"
      },
      "source": [
        "### Soru 2\n",
        "- Input fonksiyonu ile kullanıcıdan ismini ve yaşını girmesini isteyin ve kullanıcı ismini print ettirin.\n",
        "  - Bunu 3 farklı yol ile yapın"
      ]
    },
    {
      "cell_type": "code",
      "execution_count": 3,
      "metadata": {},
      "outputs": [],
      "source": [
        "#Cevap 1"
      ]
    },
    {
      "cell_type": "code",
      "execution_count": 4,
      "metadata": {},
      "outputs": [],
      "source": [
        "#Cevap 2"
      ]
    },
    {
      "cell_type": "code",
      "execution_count": 5,
      "metadata": {},
      "outputs": [],
      "source": [
        "#Cevap 3"
      ]
    },
    {
      "cell_type": "markdown",
      "metadata": {
        "id": "ibJw5rgPyXdR"
      },
      "source": [
        "### Soru 3\n",
        "- Kullanıcıdan 2 tane sayı değeri alın, büyük olan sayıyı yazdırın. Eğer her 2 sayı da birbirine eşit ise 2 sayının *esitlik* yazın."
      ]
    },
    {
      "cell_type": "code",
      "execution_count": 6,
      "metadata": {
        "colab": {
          "base_uri": "https://localhost:8080/"
        },
        "id": "1FZtaUxVyXH6",
        "outputId": "b727f037-fb11-459d-cda3-b054340d9160"
      },
      "outputs": [],
      "source": [
        "# Cevap"
      ]
    },
    {
      "cell_type": "markdown",
      "metadata": {
        "id": "l2jaHEZVMNPv"
      },
      "source": [
        "### Soru 4\n",
        "Verilen tam sayı 'n' için aşağıdaki koşulları gerçekleştiriniz:\n",
        "* n tek ise, ekrana 'Weird' yazsın\n",
        "* n çift ve 2 ile 7 arasında (2 ve 7 dahil) ise, ekrana 'Not Weird' yazsın\n",
        "* n çift ve 8 ile 20 arasında (8 ve 20 dahil) ise, ekrana 'Weird' yazsın\n",
        "* n çift ve 20'den büyük ise, ekrana 'Not Weird' yazsın.\n"
      ]
    },
    {
      "cell_type": "code",
      "execution_count": 7,
      "metadata": {
        "colab": {
          "base_uri": "https://localhost:8080/"
        },
        "id": "bz8pc24TMUv_",
        "outputId": "0b06e853-db96-4a33-d392-f8fdd17773aa"
      },
      "outputs": [],
      "source": [
        "# Cevap"
      ]
    },
    {
      "cell_type": "markdown",
      "metadata": {
        "id": "jqELkJPETNOU"
      },
      "source": [
        "### Soru 5\n",
        "Artık yıllar 4 rakamının katı olan yıllardır fakat bu kuralın bir ististası vardır.\n",
        "1. 100'ün katı olan yıllardan sadece 400'e kalansız olarak bölünebilenler artık yıldır.\n",
        "    * Örneğin 1200 ve 2000 yılları artık yıllardır fakat 1800, 1300, 1900 ve 1500 artık yıl değildir.\n",
        "\n",
        "Bilgi: 4000'den sonraki yıllar için yeni bir istisna devreye giriyor fakat bu soru için onu göze almamıza gerek yoktur.\n",
        "\n",
        "Yukarıdaki tanıma göre artık yılı hesaplayan kod bloğunu yazınız."
      ]
    },
    {
      "cell_type": "code",
      "execution_count": 8,
      "metadata": {
        "colab": {
          "base_uri": "https://localhost:8080/"
        },
        "id": "DsX6neRhTPTA",
        "outputId": "4df3a752-0a23-4f37-a8a0-f7adb2b63e35"
      },
      "outputs": [],
      "source": [
        "# Cevap"
      ]
    },
    {
      "cell_type": "markdown",
      "metadata": {
        "id": "GhpONulq2PFz"
      },
      "source": [
        "### Soru 6\n",
        "Kullanıcıdan 2 basamaklı bir sayı girmesini isteyin,\n",
        "- Ilk olarak girilen sayı 50'den büyük mü kontrol edin, \n",
        "  Girilen sayı 50'den büyük ise 1'ler basamağındaki sayının karesinden büyük mü diye kontrol edin. Büyükse A, küçükse B yazdırın.\n",
        "  Girilen sayı 50'den küçük ise 1'ler basamağının 10 katından küçük mü diye kontrol edin! Büyükse C, küçükse D yazdırın."
      ]
    },
    {
      "cell_type": "code",
      "execution_count": 9,
      "metadata": {
        "colab": {
          "base_uri": "https://localhost:8080/"
        },
        "id": "tSTSoUzJ0sJN",
        "outputId": "70cabebf-7de3-4de4-f842-ecc28ec893ca"
      },
      "outputs": [],
      "source": [
        "# Cevap"
      ]
    },
    {
      "cell_type": "markdown",
      "metadata": {
        "id": "J5baUAbP4TVR"
      },
      "source": [
        "### Soru 7\n",
        "- Iç içe döngüler kullanarak 0-10 arası sayılarla çarpım tablosu gösterimini oluşturun.\n",
        "  - 2 x 5 = 10\n",
        "  - 1 x 8 = 8 \n",
        "  gibi."
      ]
    },
    {
      "cell_type": "code",
      "execution_count": 10,
      "metadata": {
        "colab": {
          "base_uri": "https://localhost:8080/"
        },
        "id": "vttixICl1yWC",
        "outputId": "32979af4-760f-4600-bb42-3b13216d91d5"
      },
      "outputs": [],
      "source": [
        "# Cevap"
      ]
    },
    {
      "cell_type": "markdown",
      "metadata": {
        "id": "mbtsBjJc5Dep"
      },
      "source": [
        "### Soru 8\n",
        "- Kullanıcıdan 2 tane sayı girmesini isteyin. Girilen 2 sayının 0 - 200 arasındaki ortak katlarını print ettirin.\n",
        "  - 2. bir yöntem olarak `for i in range(a, b, c):` gibi bir döngü ile de çözüm sununuz.\n",
        "\n",
        "- (Soruya 2 farklı çözüm sunmanız bekleniyor.)"
      ]
    },
    {
      "cell_type": "code",
      "execution_count": 11,
      "metadata": {
        "colab": {
          "base_uri": "https://localhost:8080/"
        },
        "id": "p5sXywsc4qH3",
        "outputId": "174b765e-4c4e-467f-96ff-9c3a5b329001"
      },
      "outputs": [],
      "source": [
        "# Cevap 1"
      ]
    },
    {
      "cell_type": "code",
      "execution_count": 12,
      "metadata": {
        "colab": {
          "base_uri": "https://localhost:8080/"
        },
        "id": "Ele8TRkD4qDQ",
        "outputId": "d2c41fe5-e62f-404c-d283-153d464928a0"
      },
      "outputs": [],
      "source": [
        "# Cevap 2"
      ]
    },
    {
      "cell_type": "markdown",
      "metadata": {
        "id": "xfPtOF0Gs7Ac"
      },
      "source": [
        "### Soru 9\n",
        "- Sıcaklık Dönüştürücü\n",
        "- Kullanıcıdan ilk olarak bir celcius sıcaklık değeri girmesini isteyin. Girilen değerin hangi sıcaklık türüne dönüştürüleceğini girmesini isteyin ve gerekli dönüşümü yapan fonksiyonu tasarlayın.\n",
        "- İpucu: C / 100 = (F - 32) / 180 = (K - 273.15) / 100\n",
        "  - "
      ]
    },
    {
      "cell_type": "code",
      "execution_count": 13,
      "metadata": {
        "id": "Bkw--1qR4p-c"
      },
      "outputs": [],
      "source": [
        "# Cevap"
      ]
    },
    {
      "cell_type": "markdown",
      "metadata": {
        "id": "3C4TJ5xbs5BB"
      },
      "source": [
        "### Soru 10\n",
        "- BMI Hesaplanması ve sonucun `zayif`, `cok zayif`..... olarak print ettirilmesi\n",
        "- Kullanıcıdan kilosunu ve boyunu girmesini isteyin. Ve BMI' değerini hesaplayıp BMI'değerinin dahil oldugu aralığa göre kişinin kilo durumunu print ettirin.\n",
        "  İpucu: (kilo) / (boy ^ 2) \n",
        "    100 / (1.75^2) gibi\n",
        "- 0 - 18,4: Zayıf\n",
        "- 18.5 - 24.9 Normal\n",
        "- 25,0 - 29,9: Fazla Kilolu\n",
        "- 30,0 - 34,9: Şişman (Obez) - I. Sınıf\n",
        "- 35,0 - 44,9: Şişman (Obez) - II. Sınıf\n",
        "- 45,0 ve üstü: Aşırı Şişman (Aşırı Obez) - III. Sınıf"
      ]
    },
    {
      "cell_type": "code",
      "execution_count": 14,
      "metadata": {
        "id": "inz8RAMjGOxC"
      },
      "outputs": [],
      "source": [
        "# Cevap"
      ]
    },
    {
      "cell_type": "markdown",
      "metadata": {
        "id": "qje4VdSrsbq5"
      },
      "source": [
        "### Soru 11\n",
        "Kullanıcıdan maaşını ve çocuk sayısını girmesini isteyin.\n",
        "Bu kişinin alacağı prim miktari = Maaşının %1'i x 3.8 x Çocuk sayısıdır.\n",
        "\n",
        "Kişilerin alacağı prim miktarını hesaplayınız."
      ]
    },
    {
      "cell_type": "code",
      "execution_count": 15,
      "metadata": {
        "id": "4zX6JDt-GPVo"
      },
      "outputs": [],
      "source": [
        "# Cevap"
      ]
    },
    {
      "cell_type": "markdown",
      "metadata": {
        "id": "iuuUeCTGsfXD"
      },
      "source": [
        "### Soru 12\n",
        "Mehter takımı 2 ileri 1 geri hareket etmektedir. Mehter takımı 100. hareketlerinden sonra toplamda ne kadar ilerlemiş olur? Çözümü döngüler ile hesaplayınız"
      ]
    },
    {
      "cell_type": "code",
      "execution_count": 16,
      "metadata": {
        "id": "6vDj3w-oGP82"
      },
      "outputs": [],
      "source": [
        "# Cevap"
      ]
    },
    {
      "cell_type": "markdown",
      "metadata": {
        "id": "RbQmCYRQs-Mv"
      },
      "source": [
        "### Soru 13\n",
        "- Fibonacci hesaplaması işlemini döngüleri kullanarak hesaplayın. Girilen sayı kadar fibonacci dizisinin elemanını yazdırın.\n",
        "\n",
        "- Fibonacci dizisi ardışık 2 fibonacci sayısının toplamı şeklinde ilerler. Sırasıyla ilk 7 fibonacci sayısı şu şekildedir: 0-1-1-2-3-5-8-13-21"
      ]
    },
    {
      "cell_type": "code",
      "execution_count": 17,
      "metadata": {
        "id": "p9Il0yD5GQ-1"
      },
      "outputs": [],
      "source": [
        "# Cevap"
      ]
    },
    {
      "cell_type": "markdown",
      "metadata": {
        "id": "ajcOQ0SEs-Hm"
      },
      "source": [
        "### Soru 14\n",
        "- Bir dersin geçme notu hesaplamasında öğrencilerin vize final notları ağırlıkları 0.4 ve 0.6'dır. Ortalaması 50 ve üzerinde olmayan öğrenci dersten kalır.\n",
        "Kullanıcıdan vize notunu girmesini isteyin ve dersten geçmek icin kaç almaları gerektiğini hesaplayın."
      ]
    },
    {
      "cell_type": "code",
      "execution_count": 18,
      "metadata": {
        "id": "IJLkW5QsGSA7"
      },
      "outputs": [],
      "source": [
        "# Cevap"
      ]
    },
    {
      "cell_type": "markdown",
      "metadata": {
        "id": "1-I5ub6bs-FF"
      },
      "source": [
        "### Soru 15\n",
        "Kullanıcıdan 10 tane sayı girmesini isteyin. Girdiği sayıların kaçı bir öncekinden büyük, kaçı bir önceki sayıdan küçük, kaçı bir öncekine eşit, sonuçları print ettirin.\n",
        "- input() fonksiyonunu sadece 1 kez kullanarak ve döngü kullanarak çözüme ulaşın."
      ]
    },
    {
      "cell_type": "code",
      "execution_count": 19,
      "metadata": {
        "id": "czRhN-e-GSkB"
      },
      "outputs": [],
      "source": [
        "# Cevap"
      ]
    },
    {
      "cell_type": "markdown",
      "metadata": {
        "id": "xTELefzLs-Cp"
      },
      "source": [
        "### Soru 16\n",
        "Kullanıcıdan saat ve dakika bilgisini (ayrı ayrı) girmesini isteyin. \n",
        "Girilen saat bilgisine ait akrep ve yelkovan arasindaki açıyı hesaplayacak şekilde hesaplama bütününü oluşturun.\n",
        "\n",
        "- Sonuc 0-180 derece aralığında çıkabilir."
      ]
    },
    {
      "cell_type": "code",
      "execution_count": 20,
      "metadata": {
        "id": "1H2TQWMdGTFR"
      },
      "outputs": [],
      "source": [
        "# Cevap"
      ]
    },
    {
      "cell_type": "markdown",
      "metadata": {
        "id": "Xfdg5_Eys-AA"
      },
      "source": [
        "### Soru 17\n",
        "0'dan 100'e kadar sayıları sırasıyla 1, 2, 3, 4... atlayarak yazdırın.\n",
        "\n",
        "- Yazdırma işlemine 1-2-4-7-11.. şeklinde başlayın."
      ]
    },
    {
      "cell_type": "code",
      "execution_count": 21,
      "metadata": {
        "id": "gjv3cD2oGTlY"
      },
      "outputs": [],
      "source": [
        "# Cevap"
      ]
    },
    {
      "cell_type": "markdown",
      "metadata": {
        "id": "bM1pFZfUCEAG"
      },
      "source": [
        "### Soru 18\n",
        "0'dan 100'e kadar sayıları sırasıyla 1, 2, 3, 4... atlayarak toplatın.\n",
        "\n",
        "- Yani 1-2-4-7-11.. sayılarını 100'e varana dek toplayın."
      ]
    },
    {
      "cell_type": "code",
      "execution_count": 22,
      "metadata": {
        "id": "AmIe00yuGUJI"
      },
      "outputs": [],
      "source": [
        "# Cevap"
      ]
    },
    {
      "cell_type": "markdown",
      "metadata": {
        "id": "PNtnRPr1Gkqf"
      },
      "source": [
        "### Soru 19\n",
        "Verilen string ifadenin içinde **SistersLab**'i oluşturmak için gerekli olan karakterlerin verilen ifadede sırayla bulunması durumunda ekrana 'True', diğer durumda 'False' yazdırınız.\n",
        "* Büyük küçük harf duyarlılığı olmasına gerek yok."
      ]
    },
    {
      "cell_type": "code",
      "execution_count": 23,
      "metadata": {
        "colab": {
          "base_uri": "https://localhost:8080/"
        },
        "id": "ciauItNlG-xo",
        "outputId": "68728eb2-b78e-4eca-dc53-53484948bfd4"
      },
      "outputs": [],
      "source": [
        "# Cevap"
      ]
    },
    {
      "cell_type": "markdown",
      "metadata": {
        "id": "Pcszo0ckGIXK"
      },
      "source": [
        "### Soru 20\n",
        " Aylık faizle x kredi miktari hesaplama\n",
        "Kişiden 4 tane input alın. \n",
        "- Kullanacağı kredi miktarı\n",
        "- Faiz yüzdesi.\n",
        "- Ödeme periyodu.\n",
        "Girilen bilgiler ışığında kişinin kullanacağı kredi miktarının periyodun sonunda ulaşacağı miktarı ve aylık ödeme miktarını yazdırın."
      ]
    },
    {
      "cell_type": "markdown",
      "metadata": {
        "id": "m0cKcyT-12XW"
      },
      "source": [
        "### Format Örnekleri"
      ]
    },
    {
      "cell_type": "code",
      "execution_count": 24,
      "metadata": {
        "colab": {
          "base_uri": "https://localhost:8080/"
        },
        "id": "lZb0Z9Ns1yRM",
        "outputId": "1ed8d23b-d183-4279-edfc-9343839d4b66"
      },
      "outputs": [
        {
          "name": "stdout",
          "output_type": "stream",
          "text": [
            "Line 1 - Name: Emre, Age: 23, Salary: 15000.1215, IsAlive: True\n",
            "Line 2 - Name: Emre, Age: 23, Salary: 15000.1215, IsAlive: True\n",
            "Line 3 - Name: Emre, Age: 23, Salary: 15000.1215, IsAlive: True\n",
            "Line 4 - Name: Emre, Age: 23, OtherAge: 23, Salary: 15000.1215, IsAlive: True\n",
            "Line 5 - Name: Emre, Age: 23, Salary: 15000.12, IsAlive: True\n",
            "Line 6 - Name: Emre, Age: 23, Salary: 15,000.12, IsAlive: True\n",
            "Line 7 - Name: Emre, Age: 23 , Salary: 15,000.12, IsAlive: True\n",
            "Line 8 - Name: Emre, Age:  23, Salary: 15,000.12, IsAlive: True\n",
            "Line 9 - Name: Emre, Age:  23, Salary: 15,000.12, IsAlive: Alive\n"
          ]
        }
      ],
      "source": [
        "personName, personAge, personSalary, personIsAlive = ['Emre', 23, 15000.121500, True]\n",
        "\n",
        "print(\"Line 1 - Name: {}, Age: {}, Salary: {}, IsAlive: {}\".format(personName, personAge, personSalary, personIsAlive))\n",
        "print(\"Line 2 - Name: {0}, Age: {1}, Salary: {2}, IsAlive: {3}\".format(personName, personAge, personSalary, personIsAlive)) #Used placeholders as variable references.\n",
        "print(\"Line 3 - Name: {name}, Age: {age}, Salary: {salary}, IsAlive: {isAlive}\".format(name = personName, age = personAge, salary = personSalary,isAlive = personIsAlive)) \n",
        "print(\"Line 4 - Name: {0}, Age: {1}, OtherAge: {1}, Salary: {2}, IsAlive: {3}\".format(personName, personAge, personSalary, personIsAlive)) #Used placeholders as variable references.\n",
        "print(\"Line 5 - Name: {0}, Age: {1}, Salary: {2:.2f}, IsAlive: {3}\".format(personName, personAge, personSalary, personIsAlive)) #Fixed point number format. :.2f, :.3f, :.4f\n",
        "print(\"Line 6 - Name: {0}, Age: {1}, Salary: {2:,.2f}, IsAlive: {3}\".format(personName, personAge, personSalary, personIsAlive)) #Used comma as a thousand separator. :,\n",
        "print(\"Line 7 - Name: {0}, Age: {1:<3}, Salary: {2:,.2f}, IsAlive: {3}\".format(personName, personAge, personSalary, personIsAlive)) #Left aligns the result (within the available spaces).\n",
        "print(\"Line 8 - Name: {0}, Age: {1:>3}, Salary: {2:,.2f}, IsAlive: {3}\".format(personName, personAge, personSalary, personIsAlive)) #Right aligns the result (within the available spaces).\n",
        "print(\"Line 9 - Name: {0}, Age: {1:>3}, Salary: {2:,.2f}, IsAlive: {3}\".format(personName, personAge, personSalary, 'Alive' if personIsAlive else 'Dead'))\n"
      ]
    }
  ],
  "metadata": {
    "colab": {
      "collapsed_sections": [
        "4W2tkPE6yDLg"
      ],
      "name": "Hafta_1_Sorular.ipynb",
      "provenance": []
    },
    "interpreter": {
      "hash": "32101a8118c94f36cfba773c286bb0b54d6de613c34f73590bc6c816a2930046"
    },
    "kernelspec": {
      "display_name": "Python 3.7.6 64-bit",
      "language": "python",
      "name": "python3"
    },
    "language_info": {
      "codemirror_mode": {
        "name": "ipython",
        "version": 3
      },
      "file_extension": ".py",
      "mimetype": "text/x-python",
      "name": "python",
      "nbconvert_exporter": "python",
      "pygments_lexer": "ipython3",
      "version": "3.7.6"
    }
  },
  "nbformat": 4,
  "nbformat_minor": 0
}
