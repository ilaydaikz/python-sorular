{
  "cells": [
    {
      "cell_type": "markdown",
      "metadata": {
        "id": "vPOdEUH5wuPB"
      },
      "source": [
        "## SORULAR - HAFTA 1"
      ]
    },
    {
      "cell_type": "markdown",
      "metadata": {
        "id": "zevjk3Wbxqhn"
      },
      "source": [
        "### Soru 0\n",
        "\n",
        "- 3 tane string degisken olusturun ve bunlari camel case olarak isimlendirin."
      ]
    },
    {
      "cell_type": "code",
      "execution_count": 1,
      "metadata": {
        "id": "roU2m4lLxXt6"
      },
      "outputs": [],
      "source": [
        "# Cevap"
      ]
    },
    {
      "cell_type": "markdown",
      "metadata": {
        "id": "l4-nKq0fxt5-"
      },
      "source": [
        "### Soru 1\n",
        "- 3 tane Snake Case isme sahip integer veya float deger olusturun.\n"
      ]
    },
    {
      "cell_type": "code",
      "execution_count": 2,
      "metadata": {
        "id": "hahEaeB7xXlF"
      },
      "outputs": [],
      "source": [
        "# Cevap"
      ]
    },
    {
      "cell_type": "markdown",
      "metadata": {
        "id": "4W2tkPE6yDLg"
      },
      "source": [
        "### Soru 2\n",
        "- Input fonksiyonu ile kullanicidan ismini ve yasini girmesini isteyin ve kullanici ismini print ettirin.\n",
        "  - Bunu 3 farkli yol ile yapin"
      ]
    },
    {
      "cell_type": "code",
      "execution_count": 3,
      "metadata": {},
      "outputs": [],
      "source": [
        "#Cevap 1"
      ]
    },
    {
      "cell_type": "code",
      "execution_count": 4,
      "metadata": {},
      "outputs": [],
      "source": [
        "#Cevap 2"
      ]
    },
    {
      "cell_type": "code",
      "execution_count": 5,
      "metadata": {},
      "outputs": [],
      "source": [
        "#Cevap 3"
      ]
    },
    {
      "cell_type": "markdown",
      "metadata": {
        "id": "ibJw5rgPyXdR"
      },
      "source": [
        "### Soru 3\n",
        "- Kullanicidan 2 tane sayi degeri alin, buyuk olan sayiyi yazdirin. Eger her 2 sayi da birbirine esit ise 2 sayinin *esitlik* yazin."
      ]
    },
    {
      "cell_type": "code",
      "execution_count": 6,
      "metadata": {
        "colab": {
          "base_uri": "https://localhost:8080/"
        },
        "id": "1FZtaUxVyXH6",
        "outputId": "b727f037-fb11-459d-cda3-b054340d9160"
      },
      "outputs": [],
      "source": [
        "# Cevap"
      ]
    },
    {
      "cell_type": "markdown",
      "metadata": {
        "id": "l2jaHEZVMNPv"
      },
      "source": [
        "### Soru 4\n",
        "Verilen tam sayı 'n' için aşağıdaki koşulları gerçekleştiriniz:\n",
        "* n tek ise, ekrana 'Weird' yazsın\n",
        "* n çift ve 2 ile 7 arasında (2 ve 7 dahil) ise, ekrana 'Not Weird' yazsın\n",
        "* n çift ve 8 ile 20 arasında (8 ve 20 dahil) ise, ekrana 'Weird' yazsın\n",
        "* n çift ve 20'den büyük ise, ekrana 'Not Weird' yazsın.\n"
      ]
    },
    {
      "cell_type": "code",
      "execution_count": 7,
      "metadata": {
        "colab": {
          "base_uri": "https://localhost:8080/"
        },
        "id": "bz8pc24TMUv_",
        "outputId": "0b06e853-db96-4a33-d392-f8fdd17773aa"
      },
      "outputs": [],
      "source": [
        "# Cevap"
      ]
    },
    {
      "cell_type": "markdown",
      "metadata": {
        "id": "jqELkJPETNOU"
      },
      "source": [
        "### Soru 5\n",
        "Artık yıllar 4 rakamının katı olan yıllardır fakat bu kuralın bir ististası vardır.\n",
        "1. 100'ün katı olan yıllardan sadece 400'e kalansız olarak bölünebilenler artık yıldır.\n",
        "    * Örneğin 1200 ve 2000 yılları artık yıllardır fakat 1800, 1300, 1900 ve 1500 artık yıl değildir.\n",
        "\n",
        "Bilgi: 4000'den sonraki yıllar için yeni bir istisna devreye giriyor fakat bu soru için onu göze almamıza gerek yoktur.\n",
        "\n",
        "Yukarıdaki tanıma göre artık yılı hesaplayan kod bloğunu yazınız."
      ]
    },
    {
      "cell_type": "code",
      "execution_count": 8,
      "metadata": {
        "colab": {
          "base_uri": "https://localhost:8080/"
        },
        "id": "DsX6neRhTPTA",
        "outputId": "4df3a752-0a23-4f37-a8a0-f7adb2b63e35"
      },
      "outputs": [],
      "source": [
        "# Cevap"
      ]
    },
    {
      "cell_type": "markdown",
      "metadata": {
        "id": "GhpONulq2PFz"
      },
      "source": [
        "### Soru 6\n",
        "Kullanicidan 2 basamakli bir sayi girmesini isteyin,\n",
        "- Ilk olarak girilen sayi 50'den buyuk mu kontrol edin, \n",
        "  50'den buyuk ise girilen sayi 1'ler basamagindaki sayinin karesinden buyuk mu diye kontrol edin. Buyukse A, kucukse B yazdirin.\n",
        "  50'den kucuk ise girilen sayi 1'ler basamaginin 10 katindan kucuk mu diye kontrol edin! Buyukse C, kucukse D yazdirin."
      ]
    },
    {
      "cell_type": "code",
      "execution_count": 9,
      "metadata": {
        "colab": {
          "base_uri": "https://localhost:8080/"
        },
        "id": "tSTSoUzJ0sJN",
        "outputId": "70cabebf-7de3-4de4-f842-ecc28ec893ca"
      },
      "outputs": [],
      "source": [
        "# Cevap"
      ]
    },
    {
      "cell_type": "markdown",
      "metadata": {
        "id": "J5baUAbP4TVR"
      },
      "source": [
        "### Soru 7\n",
        "- Ic ice donguler kullanarak 0-10 arasi sayilarla carpim tablosu gosterimini olusuturun.\n",
        "  - 2 x 5 = 10\n",
        "  - 1 x 8 = 8 \n",
        "  gibi."
      ]
    },
    {
      "cell_type": "code",
      "execution_count": 10,
      "metadata": {
        "colab": {
          "base_uri": "https://localhost:8080/"
        },
        "id": "vttixICl1yWC",
        "outputId": "32979af4-760f-4600-bb42-3b13216d91d5"
      },
      "outputs": [],
      "source": [
        "# Cevap"
      ]
    },
    {
      "cell_type": "markdown",
      "metadata": {
        "id": "mbtsBjJc5Dep"
      },
      "source": [
        "### Soru 8\n",
        "- Kullanicidan 2 tane sayi girmesini isteyin. girilen 2 sayinin 0 - 200 arasindaki ortak katlarini print ettirin.\n",
        "  - 2. bir yontem olarak `for i in range(a, b, c):` gibi bir dongu ile de cozum sununuz.\n",
        "\n",
        "- (Soruya 2 farkli cozum sunmaniz bekleniyor.)"
      ]
    },
    {
      "cell_type": "code",
      "execution_count": 11,
      "metadata": {
        "colab": {
          "base_uri": "https://localhost:8080/"
        },
        "id": "p5sXywsc4qH3",
        "outputId": "174b765e-4c4e-467f-96ff-9c3a5b329001"
      },
      "outputs": [],
      "source": [
        "# Cevap 1"
      ]
    },
    {
      "cell_type": "code",
      "execution_count": 12,
      "metadata": {
        "colab": {
          "base_uri": "https://localhost:8080/"
        },
        "id": "Ele8TRkD4qDQ",
        "outputId": "d2c41fe5-e62f-404c-d283-153d464928a0"
      },
      "outputs": [],
      "source": [
        "# Cevap 2"
      ]
    },
    {
      "cell_type": "markdown",
      "metadata": {
        "id": "xfPtOF0Gs7Ac"
      },
      "source": [
        "### Soru 9\n",
        "- Scaklik Donusutrucu\n",
        "- Kullanicidan ilk olarak bir celcius sicaklik degeri girmesini isteyin. Girilen degerin hangi sicaklik turune donusturulecegini ayriyeten girmesini isteyin. Ve Gerekli donusumu yapan fonksiyonu tasarlayin.\n",
        "- Ipucu: C / 100 = (F - 32) / 180 = (K - 273.15) / 100\n",
        "  - "
      ]
    },
    {
      "cell_type": "code",
      "execution_count": 13,
      "metadata": {
        "id": "Bkw--1qR4p-c"
      },
      "outputs": [],
      "source": [
        "# Cevap"
      ]
    },
    {
      "cell_type": "markdown",
      "metadata": {
        "id": "3C4TJ5xbs5BB"
      },
      "source": [
        "### Soru 10\n",
        "- BMI Hesaplanmasi ve sonucun `zayif`, `cok zayif`..... olarak print ettirilmesi\n",
        "- Kullanicidan kilosu ve boyunu girmesini isteyin. Ve BMI' degerini hesaplayip bmi'degerinin dahil oldugu araliga gore kisinin kilo durumunu print ettirin.\n",
        "  Ipucu: (kilo) / (boy ^ 2) \n",
        "    100 / (1.75^2) gibi\n",
        "- 0 - 18,4: Zayıf\n",
        "- 18.5 - 24.9 Normal\n",
        "- 25,0 - 29,9: Fazla Kilolu\n",
        "- 30,0 - 34,9: Şişman (Obez) - I. Sınıf\n",
        "- 35,0 - 44,9: Şişman (Obez) - II. Sınıf\n",
        "- 45,0 ve üstü: Aşırı Şişman (Aşırı Obez) - III. Sınıf"
      ]
    },
    {
      "cell_type": "code",
      "execution_count": 14,
      "metadata": {
        "id": "inz8RAMjGOxC"
      },
      "outputs": [],
      "source": [
        "# Cevap"
      ]
    },
    {
      "cell_type": "markdown",
      "metadata": {
        "id": "qje4VdSrsbq5"
      },
      "source": [
        "### Soru 11\n",
        "Kullanicidan maasini ve cocuk sayisini girmesini isteyin.\n",
        "Bu kisinin alacagi prim miktari = Maasinin %1'i x 3.8 x Cocuk sayisidir.\n",
        "\n",
        "Kisilerin alacagi prim miktarini hesaplayiniz."
      ]
    },
    {
      "cell_type": "code",
      "execution_count": 15,
      "metadata": {
        "id": "4zX6JDt-GPVo"
      },
      "outputs": [],
      "source": [
        "# Cevap"
      ]
    },
    {
      "cell_type": "markdown",
      "metadata": {
        "id": "iuuUeCTGsfXD"
      },
      "source": [
        "### Soru 12\n",
        "Mehter takimi 2 ileri 1 geri hareket etmektedir. MEhter takimi 100. hareketlerinden sonra totalde ne kadar ilerlemis olur? Cozumu donguler ile hesaplayiniz"
      ]
    },
    {
      "cell_type": "code",
      "execution_count": 16,
      "metadata": {
        "id": "6vDj3w-oGP82"
      },
      "outputs": [],
      "source": [
        "# Cevap"
      ]
    },
    {
      "cell_type": "markdown",
      "metadata": {
        "id": "RbQmCYRQs-Mv"
      },
      "source": [
        "### Soru 13\n",
        "- Fibonacci hesaplamasi islemini donguleri kullanarak hesaplayin. Girilen sayi kadar fibonacci dizisinin elemanini yazdirin.\n",
        "\n",
        "- Fibonacci dizisi ardisik 2 fibonacci sayisinin toplami seklinde ilerler. sirasiyla ilk 7 fibonacci sayisi su sekildedir 0-1-1-2-3-5-8-13-21"
      ]
    },
    {
      "cell_type": "code",
      "execution_count": 17,
      "metadata": {
        "id": "p9Il0yD5GQ-1"
      },
      "outputs": [],
      "source": [
        "# Cevap"
      ]
    },
    {
      "cell_type": "markdown",
      "metadata": {
        "id": "ajcOQ0SEs-Hm"
      },
      "source": [
        "### Soru 14\n",
        "- Bir dersin gecme notu hesaplamasinda ogrencilerin vize final notlari agirliklari 0.4 ve 0.6'dir. Ortalamasi 50 ve uzerinde olmayan ogrenci dersten kalir.\n",
        "Kullanicidan vize notunu girmesini isteyin ve dersten gecmek icin kac almalari gerektigini hespalayin."
      ]
    },
    {
      "cell_type": "code",
      "execution_count": 18,
      "metadata": {
        "id": "IJLkW5QsGSA7"
      },
      "outputs": [],
      "source": [
        "# Cevap"
      ]
    },
    {
      "cell_type": "markdown",
      "metadata": {
        "id": "1-I5ub6bs-FF"
      },
      "source": [
        "### Soru 15\n",
        "Kullanicidan 10 tane sayi girmesini isteyin. Ve girdigi sayilarin kaci bir oncekinden buyuk, kaci bir onceki sayidan kucuk, kaci bir oncekine esit, sonuclari print ettirin.\n",
        "- input() fonksiyonunu sadece 1 kez kullanarak ve dongu kullanarak cozume ulasin."
      ]
    },
    {
      "cell_type": "code",
      "execution_count": 19,
      "metadata": {
        "id": "czRhN-e-GSkB"
      },
      "outputs": [],
      "source": [
        "# Cevap"
      ]
    },
    {
      "cell_type": "markdown",
      "metadata": {
        "id": "xTELefzLs-Cp"
      },
      "source": [
        "### Soru 16\n",
        "Kullanicidan bir saat ve Dakika bilgisini (ayri ayri) girmesini isteyin. \n",
        "Girilen saat bilgisine ait akrep ve yelkovan arasindaki aciyi hesaplayacak sekilde hesaplama butununu olusturun.\n",
        "\n",
        "- Sonuc 0-180 derece araliginda cikabilir."
      ]
    },
    {
      "cell_type": "code",
      "execution_count": 20,
      "metadata": {
        "id": "1H2TQWMdGTFR"
      },
      "outputs": [],
      "source": [
        "# Cevap"
      ]
    },
    {
      "cell_type": "markdown",
      "metadata": {
        "id": "Xfdg5_Eys-AA"
      },
      "source": [
        "### Soru 17\n",
        "0'dan 100'e kadar sayilari sirasiyla 1, 2, 3, 4... atlayarak yazdirin.\n",
        "\n",
        "- Yazdirma islemine 1-2-4-7-11.. seklinde baslayin."
      ]
    },
    {
      "cell_type": "code",
      "execution_count": 21,
      "metadata": {
        "id": "gjv3cD2oGTlY"
      },
      "outputs": [],
      "source": [
        "# Cevap"
      ]
    },
    {
      "cell_type": "markdown",
      "metadata": {
        "id": "bM1pFZfUCEAG"
      },
      "source": [
        "### Soru 18\n",
        "0'dan 100'e kadar sayilari sirasiyla 1, 2, 3, 4... atlayarak toplatayin.\n",
        "\n",
        "- Yani 1-2-4-7-11.. sayilarini 100 varana dek toplayin."
      ]
    },
    {
      "cell_type": "code",
      "execution_count": 22,
      "metadata": {
        "id": "AmIe00yuGUJI"
      },
      "outputs": [],
      "source": [
        "# Cevap"
      ]
    },
    {
      "cell_type": "markdown",
      "metadata": {
        "id": "PNtnRPr1Gkqf"
      },
      "source": [
        "### Soru 19\n",
        "Verilen string ifadenin içinde **SistersLab**'i oluşturmak için gerekli olan karakterlerin verilen ifadede sırayla bulunması durumunda ekrana 'True', diğer durumda 'False' yazdırınız.\n",
        "* Büyük küçük harf duyarlılığı olmasına gerek yok."
      ]
    },
    {
      "cell_type": "code",
      "execution_count": 23,
      "metadata": {
        "colab": {
          "base_uri": "https://localhost:8080/"
        },
        "id": "ciauItNlG-xo",
        "outputId": "68728eb2-b78e-4eca-dc53-53484948bfd4"
      },
      "outputs": [],
      "source": [
        "# Cevap"
      ]
    },
    {
      "cell_type": "markdown",
      "metadata": {
        "id": "Pcszo0ckGIXK"
      },
      "source": [
        "### Soru 20\n",
        " Aylik faizle x kredi miktari hesaplama\n",
        "Kisiden 4 tane input alin. \n",
        "- Kullanacagi kredi miktari\n",
        "- Faiz yuzdesi.\n",
        "- Odeme periyodu.\n",
        "Girilen bilgiler isiginda. Kisinin kullanacagi kredi miktarinin periyodun sonunda ulasacagi miktari ve aylik odeme miktarini yazdirin."
      ]
    },
    {
      "cell_type": "markdown",
      "metadata": {
        "id": "m0cKcyT-12XW"
      },
      "source": [
        "### Format Örnekleri"
      ]
    },
    {
      "cell_type": "code",
      "execution_count": 24,
      "metadata": {
        "colab": {
          "base_uri": "https://localhost:8080/"
        },
        "id": "lZb0Z9Ns1yRM",
        "outputId": "1ed8d23b-d183-4279-edfc-9343839d4b66"
      },
      "outputs": [
        {
          "name": "stdout",
          "output_type": "stream",
          "text": [
            "Line 1 - Name: Emre, Age: 23, Salary: 15000.1215, IsAlive: True\n",
            "Line 2 - Name: Emre, Age: 23, Salary: 15000.1215, IsAlive: True\n",
            "Line 3 - Name: Emre, Age: 23, Salary: 15000.1215, IsAlive: True\n",
            "Line 4 - Name: Emre, Age: 23, OtherAge: 23, Salary: 15000.1215, IsAlive: True\n",
            "Line 5 - Name: Emre, Age: 23, Salary: 15000.12, IsAlive: True\n",
            "Line 6 - Name: Emre, Age: 23, Salary: 15,000.12, IsAlive: True\n",
            "Line 7 - Name: Emre, Age: 23 , Salary: 15,000.12, IsAlive: True\n",
            "Line 8 - Name: Emre, Age:  23, Salary: 15,000.12, IsAlive: True\n",
            "Line 9 - Name: Emre, Age:  23, Salary: 15,000.12, IsAlive: Alive\n"
          ]
        }
      ],
      "source": [
        "personName, personAge, personSalary, personIsAlive = ['Emre', 23, 15000.121500, True]\n",
        "\n",
        "print(\"Line 1 - Name: {}, Age: {}, Salary: {}, IsAlive: {}\".format(personName, personAge, personSalary, personIsAlive))\n",
        "print(\"Line 2 - Name: {0}, Age: {1}, Salary: {2}, IsAlive: {3}\".format(personName, personAge, personSalary, personIsAlive)) #Used placeholders as variable references.\n",
        "print(\"Line 3 - Name: {name}, Age: {age}, Salary: {salary}, IsAlive: {isAlive}\".format(name = personName, age = personAge, salary = personSalary,isAlive = personIsAlive)) \n",
        "print(\"Line 4 - Name: {0}, Age: {1}, OtherAge: {1}, Salary: {2}, IsAlive: {3}\".format(personName, personAge, personSalary, personIsAlive)) #Used placeholders as variable references.\n",
        "print(\"Line 5 - Name: {0}, Age: {1}, Salary: {2:.2f}, IsAlive: {3}\".format(personName, personAge, personSalary, personIsAlive)) #Fixed point number format. :.2f, :.3f, :.4f\n",
        "print(\"Line 6 - Name: {0}, Age: {1}, Salary: {2:,.2f}, IsAlive: {3}\".format(personName, personAge, personSalary, personIsAlive)) #Used comma as a thousand separator. :,\n",
        "print(\"Line 7 - Name: {0}, Age: {1:<3}, Salary: {2:,.2f}, IsAlive: {3}\".format(personName, personAge, personSalary, personIsAlive)) #Left aligns the result (within the available spaces).\n",
        "print(\"Line 8 - Name: {0}, Age: {1:>3}, Salary: {2:,.2f}, IsAlive: {3}\".format(personName, personAge, personSalary, personIsAlive)) #Right aligns the result (within the available spaces).\n",
        "print(\"Line 9 - Name: {0}, Age: {1:>3}, Salary: {2:,.2f}, IsAlive: {3}\".format(personName, personAge, personSalary, 'Alive' if personIsAlive else 'Dead'))\n"
      ]
    }
  ],
  "metadata": {
    "colab": {
      "collapsed_sections": [
        "4W2tkPE6yDLg"
      ],
      "name": "Hafta_1_Sorular.ipynb",
      "provenance": []
    },
    "interpreter": {
      "hash": "32101a8118c94f36cfba773c286bb0b54d6de613c34f73590bc6c816a2930046"
    },
    "kernelspec": {
      "display_name": "Python 3.7.6 64-bit",
      "language": "python",
      "name": "python3"
    },
    "language_info": {
      "codemirror_mode": {
        "name": "ipython",
        "version": 3
      },
      "file_extension": ".py",
      "mimetype": "text/x-python",
      "name": "python",
      "nbconvert_exporter": "python",
      "pygments_lexer": "ipython3",
      "version": "3.7.6"
    }
  },
  "nbformat": 4,
  "nbformat_minor": 0
}
