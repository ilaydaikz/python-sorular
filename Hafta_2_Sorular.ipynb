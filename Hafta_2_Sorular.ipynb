{
  "cells": [
    {
      "cell_type": "markdown",
      "metadata": {
        "id": "flMbVmjrTpz2"
      },
      "source": [
        "## SORULAR - HAFTA 2\n",
        "\n"
      ]
    },
    {
      "cell_type": "markdown",
      "metadata": {
        "id": "h-_qzH_ETsSi"
      },
      "source": [
        "### Soru 1\n",
        "\n",
        "Verilen tam sayı 'n' için n'den küçük olan ve negatif olmayan sayıların karelerini ekrana yazdırınız.\\\n",
        "\\\n",
        "Örneğin 6 sayısı için ekranda şu şekilde bir çıktı olmalıdır ;\\\n",
        "0 \\\n",
        "1 \\\n",
        "4 \\\n",
        "9 \\\n",
        "16 \\\n",
        "25 "
      ]
    },
    {
      "cell_type": "code",
      "execution_count": null,
      "metadata": {},
      "outputs": [],
      "source": []
    },
    {
      "cell_type": "markdown",
      "metadata": {
        "id": "oq5KOu9xT4O7"
      },
      "source": [
        "### Soru 2\n",
        "Artık yıllar 4 rakamının katı olan yıllardır fakat bu kuralın bir ististası vardır.\n",
        "1. 100'ün katı olan yıllardan sadece 400'e kalansız olarak bölünebilenler artık yıldır.\n",
        "    * Örneğin 1200 ve 2000 yılları artık yıllardır fakat 1800, 1300, 1900 ve 1500 artık yıl değildir.\n",
        "\n",
        "Bilgi: 4000'den sonraki yıllar için yeni bir istisna devreye giriyor fakat bu soru için onu göze almamıza gerek yoktur.\n",
        "\n",
        "Yukarıdaki tanıma göre artık yılı hesaplayan fonksiyonu yazınız."
      ]
    },
    {
      "cell_type": "code",
      "execution_count": null,
      "metadata": {},
      "outputs": [],
      "source": []
    },
    {
      "cell_type": "markdown",
      "metadata": {
        "id": "huoFSoOywHok"
      },
      "source": [
        "### Soru 3\n",
        "Kullanıcı 'q' harfine basmadığı sürece kullanıcıdan sürekli olarak tam sayı alınız. Aldığınız tam sayıların;\n",
        "* Toplamını yazdırınız. \n",
        "* En büyüğünü yazdırınız.\n",
        "* En küçüğünü yazdırınız.\n",
        "* Ortalamasını yazdırınız.\n"
      ]
    },
    {
      "cell_type": "code",
      "execution_count": null,
      "metadata": {},
      "outputs": [],
      "source": []
    },
    {
      "cell_type": "markdown",
      "metadata": {
        "id": "VR1e9-xYwM0S"
      },
      "source": [
        "### Soru 4\n",
        "Girilen sayının faktöriyelini hesaplayan kod bloğunu while ve for döngüsü ile yapınız."
      ]
    },
    {
      "cell_type": "code",
      "execution_count": null,
      "metadata": {},
      "outputs": [],
      "source": []
    },
    {
      "cell_type": "markdown",
      "metadata": {
        "id": "ZEUr0-qR2qVA"
      },
      "source": [
        "### Soru 5\n",
        "Kullanıcıdan alınan sayının tam bölenlerini ekrana yazdırınız."
      ]
    },
    {
      "cell_type": "code",
      "execution_count": null,
      "metadata": {},
      "outputs": [],
      "source": []
    },
    {
      "cell_type": "markdown",
      "metadata": {
        "id": "DlBVvO6E7hb4"
      },
      "source": [
        "### Soru 6\n",
        "Verilen iki sayının EBOB'unu ve EKOK'unu hesaplayın. "
      ]
    },
    {
      "cell_type": "code",
      "execution_count": null,
      "metadata": {},
      "outputs": [],
      "source": []
    },
    {
      "cell_type": "markdown",
      "metadata": {
        "id": "gSdShwuLK-ZD"
      },
      "source": [
        "### Soru 7\n",
        "Aşağıdaki şekli oluşturunuz.\n",
        "```\n",
        "     * \n",
        "    * * \n",
        "   * * * \n",
        "  * * * * \n",
        " * * * * * \n",
        "* * * * * * \n",
        " * * * * * \n",
        "  * * * * \n",
        "   * * * \n",
        "    * * \n",
        "     * \n",
        "```\n",
        "\n"
      ]
    },
    {
      "cell_type": "code",
      "execution_count": null,
      "metadata": {},
      "outputs": [],
      "source": []
    },
    {
      "cell_type": "markdown",
      "metadata": {
        "id": "8TN9anRwL__s"
      },
      "source": [
        "\n",
        "### Soru 8\n",
        "Aşağıdaki şekli oluşturunuz.\n",
        "```\n",
        "         0\n",
        "        010\n",
        "       01210\n",
        "      0123210\n",
        "     012343210\n",
        "    01234543210\n",
        "   0123456543210\n",
        "  012345676543210\n",
        " 01234567876543210\n",
        "```\n",
        "\n"
      ]
    },
    {
      "cell_type": "code",
      "execution_count": null,
      "metadata": {},
      "outputs": [],
      "source": []
    },
    {
      "cell_type": "markdown",
      "metadata": {
        "id": "LOWpKyniWh4g"
      },
      "source": [
        "### Soru 9\n",
        "- Kullanicidan 0-20 araliginda bir sayi aliniz, ve alinan sayiya kadar olan sayilardan olusan alttaki piramiti olusturunuz.\n",
        "\n",
        "Ornek: input 5 ise\n",
        "```\n",
        "1\n",
        "1 2\n",
        "1 2 3\n",
        "1 2 3 4\n",
        "1 2 3 4 5\n",
        "```"
      ]
    },
    {
      "cell_type": "code",
      "execution_count": null,
      "metadata": {},
      "outputs": [],
      "source": []
    },
    {
      "cell_type": "markdown",
      "metadata": {
        "id": "Ryd9Wqk8YVnw"
      },
      "source": [
        "### Soru 10\n",
        "- Kullanicidan q harfini girene kadar tekrarli olarak 0-10 araliginda sayi girmesini isteyin, ve her girdigi sayi ile ustteki soruda bulunan piramit desenenini devam ettirin. q harfi input olarak alindiginda `piramit sonlandi` yazisini bastirin.\n",
        "\n",
        "NOT: Kullanicinin sadece q ve 0-10 araligindaki sayilari girecegi varsayimina uyabilirsiniz.\n",
        "\n",
        "```\n",
        "# input 3\n",
        "1\n",
        "1 2 \n",
        "1 2 3\n",
        "# input 7\n",
        "1\n",
        "1 2\n",
        "1 2 3 \n",
        "1 2 3 4\n",
        "1 2 3 4 5\n",
        "1 2 3 4 5 6\n",
        "1 2 3 4 5 6 7\n",
        "# input 4\n",
        "1 \n",
        "1 2 \n",
        "1 2 3\n",
        "1 2 3 4\n",
        "# input q\n",
        "piramit sonlandi\n",
        "```"
      ]
    },
    {
      "cell_type": "code",
      "execution_count": null,
      "metadata": {},
      "outputs": [],
      "source": []
    },
    {
      "cell_type": "markdown",
      "metadata": {
        "id": "IitJm9rTZ6bZ"
      },
      "source": [
        "### Soru 11\n",
        "- Kullanicidan 10 kez ard arda sayi isteyin. Girilen sayilardan *en buyugunu*, *en kucugunu* ve girilen sayilarin *ortalamasini* print ettirin."
      ]
    },
    {
      "cell_type": "code",
      "execution_count": null,
      "metadata": {},
      "outputs": [],
      "source": []
    },
    {
      "cell_type": "markdown",
      "metadata": {
        "id": "WX-hEzRwHpy8"
      },
      "source": [
        "### Soru 12\n",
        "Alttaki deseni olusturun.\n",
        "```\n",
        "*\n",
        " **\n",
        "***\n",
        "   ****\n",
        "*****\n",
        "     ******\n",
        "*******\n",
        "       ********\n",
        "*********\n",
        "         **********\n",
        "```"
      ]
    },
    {
      "cell_type": "code",
      "execution_count": null,
      "metadata": {},
      "outputs": [],
      "source": []
    },
    {
      "cell_type": "markdown",
      "metadata": {
        "id": "QIElG4yWJ73T"
      },
      "source": [
        "### Soru 13\n",
        "- 100'den 205'e kadar olan sayilari sirasiyla print ettirin. Fakat 4. siradaki ve kaylarindaki sayilari print ettirmeyin.\n",
        "\n",
        "```\n",
        "1 100\n",
        "2 105\n",
        "3 110\n",
        "bunu print ettirmeyin\n",
        "5 120\n",
        "6 125\n",
        "7 130\n",
        "bunu print ettirmeyin\n",
        "9 140\n",
        "10 145\n",
        "11 150\n",
        "bunu print ettirmeyin\n",
        "13 160\n",
        "14 165\n",
        "15 170\n",
        "bunu print ettirmeyin\n",
        "17 180\n",
        "18 185\n",
        "19 190\n",
        "bunu print ettirmeyin\n",
        "21 200\n",
        "```"
      ]
    }
  ],
  "metadata": {
    "colab": {
      "collapsed_sections": [],
      "name": "Hafta_2_Sorular.ipynb",
      "provenance": []
    },
    "interpreter": {
      "hash": "32101a8118c94f36cfba773c286bb0b54d6de613c34f73590bc6c816a2930046"
    },
    "kernelspec": {
      "display_name": "Python 3.7.6 64-bit",
      "language": "python",
      "name": "python3"
    },
    "language_info": {
      "name": "python",
      "version": "3.7.6"
    }
  },
  "nbformat": 4,
  "nbformat_minor": 0
}
