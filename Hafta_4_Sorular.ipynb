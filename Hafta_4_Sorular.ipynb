{
  "cells": [
    {
      "cell_type": "markdown",
      "metadata": {
        "id": "O-6fuPGTUeDE"
      },
      "source": []
    },
    {
      "cell_type": "markdown",
      "metadata": {
        "id": "xsj5FFGCUf7H"
      },
      "source": [
        "### Soru 1\n",
        "- Aldigi string formatindaki input'u harflerine bolup liste icerisine kaydedin. Ornek:\n",
        "```py\n",
        "def harfleri_listele(string_ifade):\n",
        "  ...\n",
        "  ...\n",
        "  ...\n",
        "  return harf_listesi\n",
        "\n",
        "harfleri_listele('sisterslab')\n",
        "\n",
        "['s', 'i', 's', 't', 'e', 'r', 's', 'l', 'a', 'b', 's']\n",
        "```"
      ]
    },
    {
      "cell_type": "code",
      "execution_count": null,
      "metadata": {
        "colab": {
          "base_uri": "https://localhost:8080/"
        },
        "id": "YxSir6fSUFSy",
        "outputId": "012d31e3-c5fc-4659-c2e0-c9fc05c496bf"
      },
      "outputs": [
        {
          "data": {
            "text/plain": [
              "['s', 'i', 's', 't', 'e', 'r', 's', 'l', 'a', 'b']"
            ]
          },
          "execution_count": 65,
          "metadata": {},
          "output_type": "execute_result"
        }
      ],
      "source": [
        "# Cevap\n"
      ]
    },
    {
      "cell_type": "markdown",
      "metadata": {
        "id": "wakxB8HzUvi7"
      },
      "source": [
        "## Soru 2\n",
        "- Alttaki kisilerin adlari, yaslari ve yasadigi sehirleri iceren 3 sehir sirasiyla ayni kisiye ait bilgileri tutmaktadir.\n",
        "Ornegin ilk satir verileri \"Esra'nin 34 yasinda ve Mugla'da yasadigi\" bilgilerini icermektedir.\n",
        "\n",
        "bilgi listelerini okuyup [('Esra', 34, 'Mugla'), ('Sare', 25, 'Izmir'), ...]\n",
        "\n",
        "gibi bir liste icerisine kaydedin."
      ]
    },
    {
      "cell_type": "code",
      "execution_count": null,
      "metadata": {
        "id": "ElOtH987VIah"
      },
      "outputs": [],
      "source": [
        "isimler = ['Esra', 'Sare', 'Ali', 'Sevval', 'Murat', 'Betul']\n",
        "yaslar = [34, 25, 7, 4, 42, 26]\n",
        "sehirler = ['Mugla', 'Izmir', 'Istanbul', 'Ankara', 'Eskisehir', 'Canakkale']"
      ]
    },
    {
      "cell_type": "code",
      "execution_count": null,
      "metadata": {
        "colab": {
          "base_uri": "https://localhost:8080/"
        },
        "id": "JCsDRhFfBFnV",
        "outputId": "ea783504-7222-4b39-9d8e-7ea09f28532d"
      },
      "outputs": [
        {
          "data": {
            "text/plain": [
              "[('Esra', 34, 'Mugla'),\n",
              " ('Sare', 25, 'Izmir'),\n",
              " ('Ali', 7, 'Istanbul'),\n",
              " ('Sevval', 4, 'Ankara'),\n",
              " ('Murat', 42, 'Eskisehir'),\n",
              " ('Betul', 26, 'Canakkale')]"
            ]
          },
          "execution_count": 55,
          "metadata": {},
          "output_type": "execute_result"
        }
      ],
      "source": [
        "# Cevap 1"
      ]
    },
    {
      "cell_type": "code",
      "execution_count": null,
      "metadata": {
        "colab": {
          "base_uri": "https://localhost:8080/"
        },
        "id": "T2fK1TJVUU6I",
        "outputId": "c856c317-9506-4737-a72f-660bc383783e"
      },
      "outputs": [
        {
          "name": "stdout",
          "output_type": "stream",
          "text": [
            "[('Esra', 34, 'Mugla'), ('Sare', 25, 'Izmir'), ('Ali', 7, 'Istanbul'), ('Sevval', 4, 'Ankara'), ('Murat', 42, 'Eskisehir'), ('Betul', 26, 'Canakkale')]\n"
          ]
        }
      ],
      "source": [
        "# Cevap 2"
      ]
    },
    {
      "cell_type": "markdown",
      "metadata": {
        "id": "uS3dzn71VjF8"
      },
      "source": [
        "### Soru 3\n",
        "- Kullanicidan input olarak bir string ifade alan, string ifade icerisindeki turkce harfleri/karakterleri sayan ve \"(harf, sayi)\" seklindee eslestirip bir liste icerisinde tum harfleri donduren bir fonksiyon yaziniz.\n",
        "Alttaki dizelerdeki harf sayilarini bulun\n"
      ]
    },
    {
      "cell_type": "code",
      "execution_count": null,
      "metadata": {
        "id": "okIYG4WVVxW3"
      },
      "outputs": [],
      "source": [
        "dizeler = \"\"\"\n",
        "GÜZEL NE GÜZEL OLMUŞSUN\n",
        "Güzel ne olmuşsun görülmeyi , görülmeyi\n",
        "Siyah zülfün halkalanmış örülmeyi , örülmeyi\n",
        "Benim yarim bana küsmüş , gayrı sözü benden kesmiş\n",
        "Zülüflerin göze dökmüş sevilmeyi , sevilmeyi\n",
        "\n",
        "Seyirttim ardından gittim \n",
        "Eğildim alnından öptüm\n",
        "Adını bilirdim unuttum çağırmayı , çağırmayı\n",
        "\n",
        "Kuan\n",
        "\"\"\""
      ]
    },
    {
      "cell_type": "code",
      "execution_count": null,
      "metadata": {
        "id": "sGVjGidAVFXR"
      },
      "outputs": [],
      "source": [
        "# Cevap\n"
      ]
    },
    {
      "cell_type": "markdown",
      "metadata": {
        "id": "h3IkyWxSWF3-"
      },
      "source": [
        "### Soru 4\n",
        "- 4 yasindaki Azra 'r' harflerini telaffuzda problem yasiyor ve 'r' harflerini 'y' harfi olarak soyluyor. Ornegin:\n",
        "- ari --> ayi\n",
        "- karacaoglan --> kayacaoglan.\n",
        "\n",
        "Bir fonksiyon yazmanizi ve bu fonksiyonun 2 tane ciktisi olmasini istiyoruz.\n",
        "Fonksiyonunuz gorevi su sekilde:\n",
        "- 1 cumle/string ifade alacak\n",
        "- gerekli islemleri yapacak\n",
        "- Cikti olarak 3 cikti verecek\n",
        "  - 1. Girdi olarak verilen cumlede r harflerini y harfine/ azranin telaffuz edecegi sekle donusturulmus seklini (string cikti)\n",
        "  - 2. Azranin kac tane kelimede hatali telaffuz yaptigini (integer cikti)\n",
        "  - 3. Hatali kelimelerin bir listesini\n",
        "dondurecek.\n",
        "\n",
        "Ornek:\n",
        "cumle = \"Bugun kumandali arabamin tekerlegi bozuldu.\"\n",
        "azranin_telaffuzu(cumle)\n",
        "\n",
        "# \"Bugun kumandali ayabamin tekeylegi bozuldu.\", 2, [\"arabamin\", \"tekerlegi\"] "
      ]
    },
    {
      "cell_type": "code",
      "execution_count": null,
      "metadata": {
        "colab": {
          "base_uri": "https://localhost:8080/"
        },
        "id": "eMBVWLK1uieT",
        "outputId": "730037c5-bb74-4ef2-aed5-bffee97e0911"
      },
      "outputs": [
        {
          "data": {
            "text/plain": [
              "('Bugun kumandali ayabamin tekeylegi bozuldu. ', 2, ['arabamin', 'tekerlegi'])"
            ]
          },
          "execution_count": 33,
          "metadata": {},
          "output_type": "execute_result"
        }
      ],
      "source": [
        "# Cevap\n"
      ]
    },
    {
      "cell_type": "markdown",
      "metadata": {
        "id": "GVBPRFfa78or"
      },
      "source": [
        "### Soru 5\n",
        "- Map fonksiyonu kullanarak asagida yer alan listenin her string elemaninin uzunlugunu bulun.\n",
        "- Beklenen cevap:\n",
        "```py\n",
        "[10, 2, 5, 6, 6]\n",
        "```"
      ]
    },
    {
      "cell_type": "code",
      "execution_count": null,
      "metadata": {
        "id": "c0E9ZuZVvGbA"
      },
      "outputs": [],
      "source": [
        "liste = ['sisterslab', 'wt', 'woman', 'python', 'pandas']"
      ]
    },
    {
      "cell_type": "code",
      "execution_count": null,
      "metadata": {
        "colab": {
          "base_uri": "https://localhost:8080/"
        },
        "id": "-7eMc-PU8bpt",
        "outputId": "10bb0cb7-7aff-49d5-e876-7f32c6ad3074"
      },
      "outputs": [
        {
          "data": {
            "text/plain": [
              "[10, 2, 5, 6, 6]"
            ]
          },
          "execution_count": 37,
          "metadata": {},
          "output_type": "execute_result"
        }
      ],
      "source": [
        "# Cevap "
      ]
    },
    {
      "cell_type": "code",
      "execution_count": null,
      "metadata": {
        "colab": {
          "base_uri": "https://localhost:8080/"
        },
        "id": "o3uNhkfq8eXF",
        "outputId": "c2faf28d-d39b-45f4-9888-effdeaf4603d"
      },
      "outputs": [
        {
          "data": {
            "text/plain": [
              "[10, 2, 5, 6, 6]"
            ]
          },
          "execution_count": 39,
          "metadata": {},
          "output_type": "execute_result"
        }
      ],
      "source": [
        "# Cevap"
      ]
    },
    {
      "cell_type": "markdown",
      "metadata": {
        "id": "k5Czu5V4NA7x"
      },
      "source": [
        "### Soru 6\n",
        "- Kullanicidan liste icerisinde gelen sayilarin 5 ve 5'in kati ise x/5 cevabini donduren, 5'in kati degil ise 5 ile bolumunden kalani donduren bir fonksiyon yazin, ve map fonksiyonu ile kullanin.\n"
      ]
    },
    {
      "cell_type": "code",
      "execution_count": null,
      "metadata": {
        "colab": {
          "base_uri": "https://localhost:8080/"
        },
        "id": "iWokd90dMS4s",
        "outputId": "a2c9a0be-364c-4764-cd60-288b2a62b20b"
      },
      "outputs": [
        {
          "data": {
            "text/plain": [
              "[1, 3, 5, 1, 11, 2]"
            ]
          },
          "execution_count": 63,
          "metadata": {},
          "output_type": "execute_result"
        }
      ],
      "source": [
        "# Cevap"
      ]
    },
    {
      "cell_type": "code",
      "execution_count": null,
      "metadata": {
        "colab": {
          "base_uri": "https://localhost:8080/"
        },
        "id": "rl_h_MyjND55",
        "outputId": "acfad537-8aa7-4bf0-ae82-6bc87e7265b2"
      },
      "outputs": [
        {
          "data": {
            "text/plain": [
              "[1, 3, 5, 1, 11, 2]"
            ]
          },
          "execution_count": 18,
          "metadata": {},
          "output_type": "execute_result"
        }
      ],
      "source": [
        "#Cevap 2\n"
      ]
    },
    {
      "cell_type": "markdown",
      "metadata": {
        "id": "zPgUzRNfJJ--"
      },
      "source": [
        "### Soru 7\n",
        "Verilen tuple üzerinde istenilen işlemleri yapınız.\n",
        "* Verilen tuple içerisinde bulunan elemanların tipini yazdırınız.\n",
        "* Eğer verilen tuple içinde integer bir liste varsa bu listenin elemanlarının karesini tuple içindeki liste ile değiştirin.\n",
        "* Eğer verilen tuple içinde string bir liste varsa bu listenin elemanlarını birleştirip listenin 0. indexine yazdırınız.\n",
        "\n",
        "\n",
        "### (2 ve 3. madde için örnek) \n",
        "Örneğin (\"String Ifade\", 1, 2, 3,[1, 2, 3, 4],['a','b','c','d','e']) tuple'ı bize verilmiş olsun. İstenilen işlemlerden sonra çıktının ('String Ifade', 1, 2, 3, [1, 4, 9, 16], ['abcde']) olması beklenmektedir."
      ]
    },
    {
      "cell_type": "code",
      "execution_count": null,
      "metadata": {
        "id": "17kHfptaQ2GN"
      },
      "outputs": [],
      "source": [
        "givenTuple = (\"String Ifade\", 1, 2, 3,[1, 2, 3, 4],['a','b','c','d','e'])"
      ]
    },
    {
      "cell_type": "code",
      "execution_count": null,
      "metadata": {
        "colab": {
          "base_uri": "https://localhost:8080/"
        },
        "id": "E6GiNPrYJQsV",
        "outputId": "07ddd8a5-b1e4-4678-dfb6-6a351eea544b"
      },
      "outputs": [
        {
          "name": "stdout",
          "output_type": "stream",
          "text": [
            "('String Ifade', 1, 2, 3, [1, 4, 9, 16], ['abcde'])\n"
          ]
        }
      ],
      "source": [
        "# Cevap"
      ]
    },
    {
      "cell_type": "markdown",
      "metadata": {
        "id": "h1xWtEPiOkno"
      },
      "source": [
        "### Soru 8\n",
        "Verilen tuple içerisinde hangi elemanın tuple içerisinde kaç defa geçtiğini yazdıran kod bloğunu yazınız.\n"
      ]
    },
    {
      "cell_type": "code",
      "execution_count": null,
      "metadata": {
        "id": "kqkIBP_eOuTh"
      },
      "outputs": [],
      "source": [
        "givenTuple = ('s',[1,2,3,4],'i','s','t','e','rs','lab','la','b','s','rs','lab','t',1,'a','a',2,3,4,5,3,1,2,[1,2,3,4])"
      ]
    },
    {
      "cell_type": "code",
      "execution_count": null,
      "metadata": {
        "colab": {
          "base_uri": "https://localhost:8080/"
        },
        "id": "wT7CSJZBPKjr",
        "outputId": "b064df7c-dc81-49e9-d537-d4485556b1a5"
      },
      "outputs": [
        {
          "name": "stdout",
          "output_type": "stream",
          "text": [
            "s 3 defa tuple içinde bulunuyor.\n",
            "[1, 2, 3, 4] 2 defa tuple içinde bulunuyor.\n",
            "i 1 defa tuple içinde bulunuyor.\n",
            "t 2 defa tuple içinde bulunuyor.\n",
            "e 1 defa tuple içinde bulunuyor.\n",
            "rs 2 defa tuple içinde bulunuyor.\n",
            "lab 2 defa tuple içinde bulunuyor.\n",
            "la 1 defa tuple içinde bulunuyor.\n",
            "b 1 defa tuple içinde bulunuyor.\n",
            "1 2 defa tuple içinde bulunuyor.\n",
            "a 2 defa tuple içinde bulunuyor.\n",
            "2 2 defa tuple içinde bulunuyor.\n",
            "3 2 defa tuple içinde bulunuyor.\n",
            "4 1 defa tuple içinde bulunuyor.\n",
            "5 1 defa tuple içinde bulunuyor.\n"
          ]
        }
      ],
      "source": [
        "# Cevap"
      ]
    }
  ],
  "metadata": {
    "colab": {
      "collapsed_sections": [],
      "name": "Hafta_4_Sorular.ipynb",
      "provenance": []
    },
    "kernelspec": {
      "display_name": "Python 3",
      "name": "python3"
    },
    "language_info": {
      "name": "python"
    }
  },
  "nbformat": 4,
  "nbformat_minor": 0
}
